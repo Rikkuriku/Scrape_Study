{
 "cells": [
  {
   "cell_type": "code",
   "execution_count": 22,
   "metadata": {},
   "outputs": [],
   "source": [
    "import requests\n",
    "from bs4 import BeautifulSoup\n",
    "import re"
   ]
  },
  {
   "cell_type": "code",
   "execution_count": 5,
   "metadata": {},
   "outputs": [],
   "source": [
    "url = \"https://slsi.skr.u-ryukyu.ac.jp/gksien/?page_id=75\"\n",
    "res = requests.get(url)\n",
    "soup = BeautifulSoup(res.text, \"html.parser\")"
   ]
  },
  {
   "cell_type": "code",
   "execution_count": 7,
   "metadata": {},
   "outputs": [],
   "source": [
    "elems = soup.find_all(\"p\")"
   ]
  },
  {
   "cell_type": "code",
   "execution_count": 49,
   "metadata": {},
   "outputs": [
    {
     "name": "stdout",
     "output_type": "stream",
     "text": [
      "[<p>【予告】<br/>令和５年度前期授業料免除の申請スケジュールについては<strong>令和５年１月下旬頃</strong>に、本HPにてお知らせします。</p>, <p>　令和２年度より実施している「修学支援新制度」における授業料免除制度。併せて支援されるJASSO給付型奨学金にて家計状況等により支援区分が判定され、その支援区分に従って大学側が授業料の減免を行う。</p>, <p>対象者：令和元年（２０１９年）以前入学の下記学部学生</p>]\n"
     ]
    }
   ],
   "source": [
    "pickup_elem = soup.select(\"p:-soup-contains('令和')\")\n",
    "print(pickup_elem)"
   ]
  },
  {
   "cell_type": "code",
   "execution_count": 41,
   "metadata": {},
   "outputs": [
    {
     "name": "stdout",
     "output_type": "stream",
     "text": [
      "【予告】令和５年度前期授業料免除の申請スケジュールについては令和５年１月下旬頃に、本HPにてお知らせします。\n"
     ]
    }
   ],
   "source": [
    "print(elems[2].text)"
   ]
  },
  {
   "cell_type": "code",
   "execution_count": 50,
   "metadata": {},
   "outputs": [
    {
     "name": "stdout",
     "output_type": "stream",
     "text": [
      "【予告】令和５年度前期授業料免除の申請スケジュールについては令和５年１月下旬頃に、本HPにてお知らせします。\n"
     ]
    }
   ],
   "source": [
    "for elem in elems:\n",
    "    if '予告' in elem.text and '令和５年度' in elem.text:\n",
    "        print(elem.text)"
   ]
  },
  {
   "cell_type": "code",
   "execution_count": 51,
   "metadata": {},
   "outputs": [
    {
     "name": "stdout",
     "output_type": "stream",
     "text": [
      "【予告】令和５年度前期授業料免除の申請スケジュールについては令和５年１月下旬頃に、本HPにてお知らせします。\n"
     ]
    }
   ],
   "source": [
    "reiwa_5 = soup.select(\"p:-soup-contains('令和５年度')\")\n",
    "for i in reiwa_5:\n",
    "    if '予告' in i.text:\n",
    "        print(i.text)"
   ]
  }
 ],
 "metadata": {
  "kernelspec": {
   "display_name": "Python 3.9.13 ('base')",
   "language": "python",
   "name": "python3"
  },
  "language_info": {
   "codemirror_mode": {
    "name": "ipython",
    "version": 3
   },
   "file_extension": ".py",
   "mimetype": "text/x-python",
   "name": "python",
   "nbconvert_exporter": "python",
   "pygments_lexer": "ipython3",
   "version": "3.9.13"
  },
  "orig_nbformat": 4,
  "vscode": {
   "interpreter": {
    "hash": "054d08a96e733d39e1d00ce18884fd719db1bfc5a6c6e78a4863c7776357fb83"
   }
  }
 },
 "nbformat": 4,
 "nbformat_minor": 2
}
