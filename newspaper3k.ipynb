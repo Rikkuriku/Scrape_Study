{
 "cells": [
  {
   "cell_type": "code",
   "execution_count": 1,
   "metadata": {},
   "outputs": [],
   "source": [
    "from newspaper import Article"
   ]
  },
  {
   "cell_type": "code",
   "execution_count": 2,
   "metadata": {},
   "outputs": [],
   "source": [
    "URL = \"https://jp.reuters.com/article/global-markets-dollarindex-idJPKBN2S01UJ\""
   ]
  },
  {
   "cell_type": "code",
   "execution_count": 3,
   "metadata": {},
   "outputs": [],
   "source": [
    "article = Article(URL)"
   ]
  },
  {
   "cell_type": "code",
   "execution_count": 4,
   "metadata": {},
   "outputs": [],
   "source": [
    "article.download()"
   ]
  },
  {
   "cell_type": "code",
   "execution_count": 5,
   "metadata": {},
   "outputs": [],
   "source": [
    "article.parse()"
   ]
  },
  {
   "cell_type": "code",
   "execution_count": 6,
   "metadata": {},
   "outputs": [
    {
     "data": {
      "text/plain": [
       "datetime.datetime(2022, 11, 10, 16, 44, 39, tzinfo=tzutc())"
      ]
     },
     "execution_count": 6,
     "metadata": {},
     "output_type": "execute_result"
    }
   ],
   "source": [
    "article.publish_date"
   ]
  },
  {
   "cell_type": "code",
   "execution_count": 7,
   "metadata": {},
   "outputs": [
    {
     "data": {
      "text/plain": [
       "['Reuters Staff']"
      ]
     },
     "execution_count": 7,
     "metadata": {},
     "output_type": "execute_result"
    }
   ],
   "source": [
    "article.authors"
   ]
  },
  {
   "cell_type": "code",
   "execution_count": 8,
   "metadata": {},
   "outputs": [
    {
     "data": {
      "text/plain": [
       "'米労働省が１０日発表した１０月の消費者物価指数（ＣＰＩ）の伸びが予想を下回り、米利上げペースが鈍化するとの観測が台頭する中、外国為替市場でドルが売られた。ドルは対円で一時１４１台に下落し、１日の下げ幅としては２０１６年６月以来最大になった。（２０２２年 ロイター／Dado Ruvic）\\n\\n[ロンドン １０日 ロイター] - 米労働省が１０日発表した１０月の消費者物価指数（ＣＰＩ）の伸びが予想を下回り、米利上げペースが鈍化するとの観測が台頭する中、外国為替市場でドルが売られた。ドルは対円で一時１４１台に下落し、１日の下げ幅としては２０１６年６月以来最大になった。\\n\\nドルは対円で一時３．３％安の１４１．５８円。その後は３％安の１４１.９５円。\\n\\nアナリストは、超弱気的な円のポジション巻き戻しを促すのに十分な速さだったとしている。\\n\\n野村のストラテジストは「ドルが対円で３％も下落するというのは、想定よりも大きな動きだった。個人的には若干過剰な反応だったと感じている」とし、「明らかに何かが起きている。多くのポジションが解消されたか、何らかのバリアが破られたかしたもようだ」と述べた。\\n\\n日銀の超ハト派的な金融政策を背景に、円は年初から対ドルで２４％下落している。\\n\\n１０月の米ＣＰＩ（季節調整済み）は前年比伸び率が７．７％で９月の８．２％から減速し、ロイターがまとめた市場予想（８．０％）も下回った。'"
      ]
     },
     "execution_count": 8,
     "metadata": {},
     "output_type": "execute_result"
    }
   ],
   "source": [
    "article.text"
   ]
  },
  {
   "cell_type": "code",
   "execution_count": 9,
   "metadata": {},
   "outputs": [
    {
     "data": {
      "text/plain": [
       "'ドル一時3％安の141円台、下げ幅16年6月以来最大 米ＣＰＩ受け'"
      ]
     },
     "execution_count": 9,
     "metadata": {},
     "output_type": "execute_result"
    }
   ],
   "source": [
    "article.title"
   ]
  },
  {
   "cell_type": "code",
   "execution_count": 10,
   "metadata": {},
   "outputs": [
    {
     "name": "stderr",
     "output_type": "stream",
     "text": [
      "[nltk_data] Downloading package punkt to\n",
      "[nltk_data]     C:\\Users\\rikku\\AppData\\Roaming\\nltk_data...\n",
      "[nltk_data]   Unzipping tokenizers\\punkt.zip.\n"
     ]
    },
    {
     "data": {
      "text/plain": [
       "True"
      ]
     },
     "execution_count": 10,
     "metadata": {},
     "output_type": "execute_result"
    }
   ],
   "source": [
    "import nltk\n",
    "nltk.download(\"punkt\")"
   ]
  },
  {
   "cell_type": "code",
   "execution_count": 11,
   "metadata": {},
   "outputs": [],
   "source": [
    "article.nlp()"
   ]
  },
  {
   "cell_type": "code",
   "execution_count": 12,
   "metadata": {},
   "outputs": [
    {
     "data": {
      "text/plain": [
       "['米ｃｐｉ受け',\n",
       " '１０日',\n",
       " 'ruvicロンドン',\n",
       " '米労働省が１０日発表した１０月の消費者物価指数ｃｐｉの伸びが予想を下回り米利上げペースが鈍化するとの観測が台頭する中外国為替市場でドルが売られたドルは対円で一時１４１台に下落し１日の下げ幅としては２０１６年６月以来最大になった２０２２年',\n",
       " 'ロイター',\n",
       " '米労働省が１０日発表した１０月の消費者物価指数ｃｐｉの伸びが予想を下回り米利上げペースが鈍化するとの観測が台頭する中外国為替市場でドルが売られたドルは対円で一時１４１台に下落し１日の下げ幅としては２０１６年６月以来最大になったドルは対円で一時３３安の１４１５８円その後は３安の１４１９５円アナリストは超弱気的な円のポジション巻き戻しを促すのに十分な速さだったとしている野村のストラテジストはドルが対円で３も下落するというのは想定よりも大きな動きだった個人的には若干過剰な反応だったと感じているとし明らかに何かが起きている多くのポジションが解消されたか何らかのバリアが破られたかしたもようだと述べた日銀の超ハト派的な金融政策を背景に円は年初から対ドルで２４下落している１０月の米ｃｐｉ季節調整済みは前年比伸び率が７７で９月の８２から減速しロイターがまとめた市場予想８０も下回った',\n",
       " 'ロイターdado',\n",
       " 'ドル一時3安の141円台下げ幅16年6月以来最大']"
      ]
     },
     "execution_count": 12,
     "metadata": {},
     "output_type": "execute_result"
    }
   ],
   "source": [
    "article.keywords"
   ]
  },
  {
   "cell_type": "code",
   "execution_count": 13,
   "metadata": {},
   "outputs": [
    {
     "data": {
      "text/plain": [
       "'米労働省が１０日発表した１０月の消費者物価指数（ＣＰＩ）の伸びが予想を下回り、米利上げペースが鈍化するとの観測が台頭する中、外国為替市場でドルが売られた。ドルは対円で一時１４１台に下落し、１日の下げ幅としては２０１６年６月以来最大になった。（２０２２年 ロイター／Dado Ruvic）[ロンドン １０日 ロイター] - 米労働省が１０日発表した１０月の消費者物価指数（ＣＰＩ）の伸びが予想を下回り、米利上げペースが鈍化するとの観測が台頭する中、外国為替市場でドルが売られた。ドルは対円で一時１４１台に下落し、１日の下げ幅としては２０１６年６月以来最大になった。ドルは対円で一時３．３％安の１４１．５８円。その後は３％安の１４１.９５円。アナリストは、超弱気的な円のポジション巻き戻しを促すのに十分な速さだったとしている。野村のストラテジストは「ドルが対円で３％も下落するというのは、想定よりも大きな動きだった。個人的には若干過剰な反応だったと感じている」とし、「明らかに何かが起きている。多くのポジションが解消されたか、何らかのバリアが破られたかしたもようだ」と述べた。日銀の超ハト派的な金融政策を背景に、円は年初から対ドルで２４％下落している。１０月の米ＣＰＩ（季節調整済み）は前年比伸び率が７．７％で９月の８．２％から減速し、ロイターがまとめた市場予想（８．０％）も下回った。'"
      ]
     },
     "execution_count": 13,
     "metadata": {},
     "output_type": "execute_result"
    }
   ],
   "source": [
    "article.summary"
   ]
  },
  {
   "cell_type": "code",
   "execution_count": 14,
   "metadata": {},
   "outputs": [
    {
     "data": {
      "text/plain": [
       "'米労働省が１０日発表した１０月の消費者物価指数（ＣＰＩ）の伸びが予想を下回り、米利上げペースが鈍化するとの観測が台頭する中、外国為替市場でドルが売られた。ドルは対円で一時１４１台に下落し、１日の下げ幅としては２０１６年６月以来最大になった。（２０２２年 ロイター／Dado Ruvic）[ロンドン １０日 ロイター] - 米労働省が１０日発表した１０月の消費者物価指数（ＣＰＩ）の伸びが予想を下回り、米利上げペースが鈍化するとの観測が台頭する中、外国為替市場でドルが売られた。ドルは対円で一時１４１台に下落し、１日の下げ幅としては２０１６年６月以来最大になった。ドルは対円で一時３．３％安の１４１．５８円。その後は３％安の１４１.９５円。アナリストは、超弱気的な円のポジション巻き戻しを促すのに十分な速さだったとしている。野村のストラテジストは「ドルが対円で３％も下落するというのは、想定よりも大きな動きだった。個人的には若干過剰な反応だったと感じている」とし、「明らかに何かが起きている。多くのポジションが解消されたか、何らかのバリアが破られたかしたもようだ」と述べた。日銀の超ハト派的な金融政策を背景に、円は年初から対ドルで２４％下落している。１０月の米ＣＰＩ（季節調整済み）は前年比伸び率が７．７％で９月の８．２％から減速し、ロイターがまとめた市場予想（８．０％）も下回った。'"
      ]
     },
     "execution_count": 14,
     "metadata": {},
     "output_type": "execute_result"
    }
   ],
   "source": [
    "article.summary.replace(\"/n\", \"\")"
   ]
  }
 ],
 "metadata": {
  "kernelspec": {
   "display_name": "Python 3 (ipykernel)",
   "language": "python",
   "name": "python3"
  },
  "language_info": {
   "codemirror_mode": {
    "name": "ipython",
    "version": 3
   },
   "file_extension": ".py",
   "mimetype": "text/x-python",
   "name": "python",
   "nbconvert_exporter": "python",
   "pygments_lexer": "ipython3",
   "version": "3.9.13"
  },
  "vscode": {
   "interpreter": {
    "hash": "5af55df7c811703d49b94a6ba0a3612dc6fbc5cf993639150807408a1c49fe55"
   }
  }
 },
 "nbformat": 4,
 "nbformat_minor": 2
}
