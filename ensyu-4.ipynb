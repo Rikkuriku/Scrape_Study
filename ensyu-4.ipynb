{
 "cells": [
  {
   "cell_type": "code",
   "execution_count": 1,
   "metadata": {},
   "outputs": [],
   "source": [
    "from selenium import webdriver\n",
    "from time import sleep\n",
    "from selenium.webdriver.common.by import By\n",
    "from selenium.webdriver.chrome.options import Options\n",
    "from dotenv import load_dotenv\n",
    "import os\n",
    "import numpy as np\n",
    "import requests"
   ]
  },
  {
   "cell_type": "code",
   "execution_count": 2,
   "metadata": {},
   "outputs": [],
   "source": [
    "def taiki(driver, X_path, keys):\n",
    "    try:\n",
    "        c_box = driver.find_element(by=By.XPATH, value=X_path)\n",
    "        if keys == None:\n",
    "            c_box.click()\n",
    "        else:\n",
    "            c_box.send_keys(keys)\n",
    "            c_box.submit()\n",
    "        sleep(1)\n",
    "    except:\n",
    "        taiki(X_path, keys)"
   ]
  },
  {
   "cell_type": "code",
   "execution_count": 3,
   "metadata": {},
   "outputs": [],
   "source": [
    "def send_message():\n",
    "  headers = {\n",
    "      'Authorization': 'XOm1PIk4UMT3dPFIrc9NaA192QUdgb3sGL3vJh6FCP7',\n",
    "  }\n",
    "\n",
    "  files = {\n",
    "      'message': (None, 'TEXT'),\n",
    "  }\n",
    "\n",
    "  requests.post('https://notify-api.line.me/api/notify', headers=headers, files=files)\n",
    "\n"
   ]
  },
  {
   "cell_type": "code",
   "execution_count": 4,
   "metadata": {},
   "outputs": [
    {
     "name": "stdout",
     "output_type": "stream",
     "text": [
      "[<selenium.webdriver.remote.webelement.WebElement (session=\"cc32bbf3383d0dee3bbe0e26d3db57ba\", element=\"2fd51c06-f6cc-4f31-bc48-feab4d016f46\")>, <selenium.webdriver.remote.webelement.WebElement (session=\"cc32bbf3383d0dee3bbe0e26d3db57ba\", element=\"64416827-ebff-4aa2-a452-62426f7c80cb\")>, <selenium.webdriver.remote.webelement.WebElement (session=\"cc32bbf3383d0dee3bbe0e26d3db57ba\", element=\"5b943997-26e3-46f2-9b56-31c814121a9e\")>, <selenium.webdriver.remote.webelement.WebElement (session=\"cc32bbf3383d0dee3bbe0e26d3db57ba\", element=\"6308334c-2c76-462a-bf11-4099f9a9404d\")>, <selenium.webdriver.remote.webelement.WebElement (session=\"cc32bbf3383d0dee3bbe0e26d3db57ba\", element=\"1c6c9c77-0b76-454d-a68d-ce71202ef222\")>, <selenium.webdriver.remote.webelement.WebElement (session=\"cc32bbf3383d0dee3bbe0e26d3db57ba\", element=\"1ae5ea3d-b3a4-434f-bf1f-efdca4837f8b\")>, <selenium.webdriver.remote.webelement.WebElement (session=\"cc32bbf3383d0dee3bbe0e26d3db57ba\", element=\"55d48f77-a50b-4f0a-bd56-8d4214af474f\")>, <selenium.webdriver.remote.webelement.WebElement (session=\"cc32bbf3383d0dee3bbe0e26d3db57ba\", element=\"0556d915-5ee1-4ffc-bcbb-da38ac79b489\")>, <selenium.webdriver.remote.webelement.WebElement (session=\"cc32bbf3383d0dee3bbe0e26d3db57ba\", element=\"0cdb2699-8e55-44a5-82ab-e0979dd84ad8\")>, <selenium.webdriver.remote.webelement.WebElement (session=\"cc32bbf3383d0dee3bbe0e26d3db57ba\", element=\"c794c90f-64de-4f18-b85e-e8f5547fd16c\")>]\n"
     ]
    }
   ],
   "source": [
    "driver = webdriver.Chrome(\"D:\\downloadapps\\chromedriver\\chromedriver_win32\\chromedriver\")\n",
    "target_url = \"https://slsi.skr.u-ryukyu.ac.jp/gksien/\"\n",
    "driver.get(target_url)\n",
    "sleep(3)\n",
    "X_path = '//*[@id=\"wp-block-search__input-1\"]'\n",
    "search = '授業料免除'\n",
    "taiki(driver, X_path, search)\n",
    "X_path = '//*[@id=\"gtranslate_selector\"]/option[3]'\n",
    "taiki(driver, X_path, None)\n",
    "X_path = '//*[@id=\"content\"]/ul/child::li/a'\n",
    "tmp = driver.find_elements(by=By.XPATH, value=X_path)\n",
    "print(tmp)\n",
    "\n",
    "MESSAGE = ''\n",
    "for i in tmp:\n",
    "    MESSAGE += i.text + \"\\n\" + i.get_attribute('href') + \"\\n\""
   ]
  },
  {
   "cell_type": "code",
   "execution_count": 5,
   "metadata": {},
   "outputs": [],
   "source": [
    "def main():\n",
    "    send_line_notify(MESSAGE)\n",
    "\n",
    "def send_line_notify(notification_message):\n",
    "    \"\"\"\n",
    "    LINEに通知する\n",
    "    \"\"\"\n",
    "    line_notify_token = '45CxY5aSxqO4B3lqD1C2XZXP8uYo6nbQ3U8QhlKNeA2'\n",
    "    line_notify_api = 'https://notify-api.line.me/api/notify'\n",
    "    headers = {'Authorization': f'Bearer {line_notify_token}'}\n",
    "    data = {'message': f'message: {notification_message}'}\n",
    "    requests.post(line_notify_api, headers = headers, data = data)\n",
    "\n",
    "if __name__ == \"__main__\":\n",
    "    main()\n",
    "\n",
    "send_line_notify(MESSAGE)"
   ]
  }
 ],
 "metadata": {
  "kernelspec": {
   "display_name": "Python 3 (ipykernel)",
   "language": "python",
   "name": "python3"
  },
  "language_info": {
   "codemirror_mode": {
    "name": "ipython",
    "version": 3
   },
   "file_extension": ".py",
   "mimetype": "text/x-python",
   "name": "python",
   "nbconvert_exporter": "python",
   "pygments_lexer": "ipython3",
   "version": "3.9.13"
  },
  "vscode": {
   "interpreter": {
    "hash": "054d08a96e733d39e1d00ce18884fd719db1bfc5a6c6e78a4863c7776357fb83"
   }
  }
 },
 "nbformat": 4,
 "nbformat_minor": 2
}
